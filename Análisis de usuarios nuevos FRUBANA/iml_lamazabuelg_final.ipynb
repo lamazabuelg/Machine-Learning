{
 "cells": [
  {
   "cell_type": "markdown",
   "metadata": {},
   "source": [
    "# <center>ANÁLISIS SOBRE LA PROBABILIDAD DE QUE UN CLIENTE NUEVO VUELVA A REALIZAR UN PEDIDO<br><br>Frubana<br><br>Luis Ángel Mazabuel García<br><br>21/07/2020</center>\n",
    "\n",
    "# Introducción\n",
    "\n",
    "Dentro de los intereses de toda empresa de servicios se encuentra un factor importante el cual apunta a su capacidad de encontrar, atraer, retener y fidelizar nuevos clientes interesados en su modelo empresarial. Dicho factor, en el caso del análisis actual para la empresa de interés <b>Frubana</b>, más que ser importante parece fundamental, ya que en la comprensión de una empresa StartUp resulta primordial la capacidad de mostrar el crecimiento en varios factores dentro de un tiempo relativamente corto. Y tal como ya se dijo uno de esos factores es la retención de clientes entre otros muchos.\n",
    "\n",
    "Con esto mente, vale la pena para los intereses de la empresa preguntarse ¿qué estamos haciendo bien y qué no? Y a pesar de que responder esa pregunta puede ser algo sumamente complejo y profundo, se pretende acá dar un acercamiento a uno de los factores que pueden ayudar a resolver esta pregunta.\n",
    "\n",
    "Pues conocer la probabilidad de que un cliente vuelva a realizar un pedido en la aplicación de Frubana, según la información que se considere relevante para responder esta pregunta, puede brindar un acercamiento por lo menos introductorio para la pregunta rectora que una empresa StartUp como Frubana, en su etapa de crecimiento y posicionamiento, necesita responderse.\n",
    "\n",
    "# El modelo\n",
    "\n",
    "Para este tipo de preguntas donde nuestra variable de respuesta es una probabilidad, se tiene entonces solamente dos opciones; para intereses computacionales esto se expresa como una variable de respuesta binaria donde o bien puede ser 1 (el cliente volvió a pedir despues de su primera orden con Frubana) o bien puede ser 0 (el cliente no volvió a pedir). Para calcular, pues, la probabilidad se puede utilizar modelos de regresión bien sea bajo métodologías tradicionales (regresiones lineales y no lineales, uni- o multi-ecuacionales) o bien bajo metodologías no tradicionales (modelos de Machine Learning). Para los intereses del análisis actual se modelará bajo metodologías tradicionales y no tradicionales y se compararán los resultados buscando obtener la mayor eficiencia posible bajo las diversas metodologías disponibles y así poder realizar luego la interpretación de los resultados obtenidos al conocer el mejor modelo.\n",
    "\n",
    "# Información Seleccionada\n",
    "\n",
    "### <center> Índice </center>\n",
    "\n",
    "* ### User ID (UID)\n",
    "\n",
    "Como para cualquier dataframe, tenemos el ID de usuario irrasteable por terceros no pertenecientes a Frubana como idenfiticador único.\n",
    "\n",
    "### <center> Variables de Control </center>\n",
    "\n",
    "* ### Segmento del usuario (SEGMENTO)\n",
    "\n",
    "El Segmento hace referencia a el tipo de usuario registrado, los segmentos posibles son: Hogar, Comercio, Institución, Líderes de Comunidad, Restaurantes. Se espera que brinde información relevante sobre qué tipos de usuarios, según su segmento, son los que se pueden ver más interesados en continuar realizando pedidos en Frubana como también a cuáles ha afectado más la presencia de inconvenientes al recibir su orden.\n",
    "\n",
    "* ### Ciudad (CIUDAD)\n",
    "\n",
    "Dado que hasta la fecha Frubana tiene operación en 3 países: Colombia, México y Brasil; 4 ciudades: Bogotá, Barranquilla, Ciudad de México y Sao Pablo. Resulta interesante validar el comportamiento de los usuarios en cada una de estas ciudades. Por inconvenientes meramente informáticos, la información de Brasil (Sao Pablo) no se encontró disponible para alimentar el actual modelo, por lo tanto se utilizarán datos de Colombia y México solamente.\n",
    "\n",
    "### <center> Variables Explicativas </center>\n",
    "\n",
    "* ### Cantidad de Productos (PESO)\n",
    "\n",
    "Para los distintos tipos de clientes que actualmente maneja Frubana, los intereses pueden variar en cada caso, mientras que algunas veces se necesita suplir lo que no hizo llegar otro proveedor, ahí entra Frubana a ofrecer sus productos; hay casos donde también se utiliza a Frubana como proveedor principal. Como esta información no está disponible y en realidad tampoco se espera esté disponible, se puede utilizar la Cantidad de productos solicitados en la orden como <b>Variable Proxy</b>. De esta manera la Cantidad de Productos será simplemente una variable cuantitativa y servirá para acercanos a conocer qué tipo de servicio espera el cliente de Frubana en su primera compra con nosotros.\n",
    "\n",
    "* ### Subtotal de Compra (USD_SUBTOTAL)\n",
    "\n",
    "Adicionalmente a la información anterior relevante a la cantidad de productos, el valor invertido en la compra también resulta relevante. Se utiliza el subtotal y no el total de la compra ya que el primero está excento de cargos y descuentos, por lo que tomar el segundo podría resultar engañoso e incluir ruido en el modelo. Además, se realiza una transformaición de la moneda del valor del subtotal bajo la nominación del Dólar Estadounidence considerando que dentro de nuestra información se tiene tanto a la moneda colombiana como a la moneda mexicana. De esta manera se asegura una estandarización de la variable.\n",
    "\n",
    "* ### Descuentos sobre la orden (DESCUENTOS)\n",
    "\n",
    "En este caso se tomará la información disponible en cada una de las primeras órdenes de los clientes respecto a los descuentos, atendiendo principalmente a si tuvieron descuentos o no. Es decir que esta variable será de tipo binaria donde: (1) significa que sí hubo algún descuento sobre la primera orden y (2) en caso contrario.\n",
    "\n",
    "* ### Primera orden acompañada de orden de cortesía (CORTESIA)\n",
    "\n",
    "Ya que el modelo de negocio de Frubana presta su principal interés sobre Restaurantes y negocios tales como establecimientos de Comercio, existe dentro de la fuerza comercial la posibilidad de ofrecer \"<bi>Pedidos de Cortesía</bi> a los clientes (además del producto que compra se le envían un par de productos adicionales de un valor no muy significativo con el fin de generar una sensación positiva y enganchar al cliente). Así, al igual que con la información de la variable anterior, se tendrá en este caso una variable de tipo binaria donde: (1) cuando esa primera orden fue acompañada de alguna cortesía, (2) en caso contrario.\n",
    "\n",
    "* ### Cancelación Previa (CANCEL_PREV)\n",
    "\n",
    "En la experiencia del usuario en cualquier plataforma de domicilios la sensación del servicio obtenido resulta ser sumamente relevante. Esa \"<i>primera impresión</i>\" del usuario puede terminar siendo fundamental para determinar si continuará utilizando la aplicación, realizando pedidos, o si definitivamente perderá su interés en ella. Por ello, es del interés actual conocer si anteriormente a la primera orden satisfactoria del usuario hubo alguna cancelación; es decir, una experiencia que resulta efectivamente molesta y brinda una primera impresión negativa sobre el servicio obtenido. Sus valores posibles dentro de nuestros datos son: (1) si tuvo cancelaciones previas, (2) si no tuvo cancelaciones previas a su primera orden recibida.\n",
    "\n",
    "* ### Productos Faltantes en la primera orden (FALTANTES)\n",
    "\n",
    "Continuando sobre la experiencia del usuario, al momento en que este realiza una orden en la aplicación tiene toda la intención de que el producto seleccionado llegue en efecto al momento de recibir su entrega. En Frubana, por el motivo que fuere, se pueden presentar faltantes al momento de entregar el pedido al cliente. Sin importar el motivo logístico-tecnológico que responda a la causa de este hecho, el cliente normalmente queda con un estado de insatisfacción que Frubana intenta mitigar en gran medida. Y se sabe, por la experiencia en el servicio al cliente, que hay una relación directa entre la cantidad de faltantes en la orden y la insatisfacción del usuario con el servicio recibido. Por ello, esta variable será de tipo cuantitativo y servirá como proxy de dicha insatisfacción del usuario con su primer pedido.\n",
    "\n",
    "* ### Cantidad Total de Reportes o Problemas sobre la primera orden (PQRs)\n",
    "\n",
    "Teniendo en cuenta que el peso de la ausencia de un producto es superior a otros problemas posibles al momento de realizar la entrega, dentro de esta actual variable se incluye la cantidad de problemas reportados adicionales que no hacen referencia a producto faltante. Estos puede incluir desde demoras con la entrega hasta problemas con tecnología. Es una varibale cualitativa y también se considera relevante para la estimación del modelo.\n",
    "\n",
    "* ### Diferencia entre hora de entrega deseada y hora de entrega real (DEMORA)\n",
    "\n",
    "Finalmente dentro de nuestros datos se encuentra la diferencia en horas exactas entre la hora que puso el usuario como \"Hora de Apertura/Atención a proveedores\" y la hora en que el conductor marcó como \"entregado\" el pedido. A pesar de que la primera no significa la hora de entrega prometida por Frubana (especificado en los T&C claro está), hay que reconocer que la mayoría sino todos los clientes <b>desean</b> recibir su producto aproximadamente en esa hora. Por este motivo es la información que nos sirve para aproximar dicho indicador y así poder calcular la \"demora\" de la entrega en términos de espectativas por parte del usuario.\n",
    "\n",
    "<b><i>La obtención de los datos, sus respectivos cálculos y transformaciones se realizaron leyendo la base de datos de Frubana bajo los lenguajes de consulta PostgreSQL y SQLite. <br> ACLARACIÓN AL LECTOR: La información observada en este trabajo es meramente investigativo y de carácter académico, no está permitida su divulgación total o parcial por parte de nadie ajeno a Frubana.</i></b>\n",
    "\n",
    "# Importación de los Datos"
   ]
  },
  {
   "cell_type": "code",
   "execution_count": 1,
   "metadata": {},
   "outputs": [],
   "source": [
    "# pip install xgboost"
   ]
  },
  {
   "cell_type": "code",
   "execution_count": 2,
   "metadata": {},
   "outputs": [],
   "source": [
    "#conda install conda install python-graphviz"
   ]
  },
  {
   "cell_type": "code",
   "execution_count": 3,
   "metadata": {},
   "outputs": [],
   "source": [
    "import pandas as pd\n",
    "import numpy as np\n",
    "import xgboost as xgb\n",
    "from xgboost import XGBClassifier, plot_tree, plot_importance\n",
    "import seaborn as sns\n",
    "import matplotlib.pyplot as plt\n",
    "import math\n",
    "import statistics \n",
    "\n",
    "\n",
    "import warnings\n",
    "warnings.simplefilter(action='ignore', category=FutureWarning)\n",
    "\n",
    "from sklearn.utils import resample\n",
    "from sklearn.model_selection import train_test_split\n",
    "from imblearn.over_sampling import SMOTE\n",
    "from sklearn.model_selection import cross_val_score\n",
    "from sklearn.preprocessing import StandardScaler, MinMaxScaler\n",
    "from hyperopt import fmin, tpe, hp, STATUS_OK, Trials\n",
    "\n",
    "from sklearn.metrics import mean_squared_error\n",
    "\n",
    "from sklearn.linear_model import LogisticRegression\n",
    "from sklearn.naive_bayes import BernoulliNB\n",
    "from sklearn.neighbors import KNeighborsClassifier\n",
    "from sklearn.tree import DecisionTreeClassifier\n",
    "from sklearn.ensemble import RandomForestClassifier\n",
    "from sklearn.ensemble import GradientBoostingClassifier\n",
    "\n",
    "from sklearn.metrics import f1_score, roc_auc_score, roc_curve\n",
    "\n",
    "from sklearn.model_selection import GridSearchCV\n",
    "\n",
    "import graphviz"
   ]
  },
  {
   "cell_type": "code",
   "execution_count": 4,
   "metadata": {
    "scrolled": false,
    "tags": []
   },
   "outputs": [
    {
     "name": "stdout",
     "output_type": "stream",
     "text": [
      "\n",
      "SEGMENTO         object\n",
      "CIUDAD           object\n",
      "UID              object\n",
      "CANCEL_PREV       int64\n",
      "PESO            float64\n",
      "USD_SUBTOTAL    float64\n",
      "DESCUENTOS        int64\n",
      "CORTESIA          int64\n",
      "FALTANTES         int64\n",
      "PQRs              int64\n",
      "DEMORA            int64\n",
      "VOLVIO            int64\n",
      "dtype: object\n",
      "\n"
     ]
    },
    {
     "data": {
      "text/html": [
       "<div>\n",
       "<style scoped>\n",
       "    .dataframe tbody tr th:only-of-type {\n",
       "        vertical-align: middle;\n",
       "    }\n",
       "\n",
       "    .dataframe tbody tr th {\n",
       "        vertical-align: top;\n",
       "    }\n",
       "\n",
       "    .dataframe thead th {\n",
       "        text-align: right;\n",
       "    }\n",
       "</style>\n",
       "<table border=\"1\" class=\"dataframe\">\n",
       "  <thead>\n",
       "    <tr style=\"text-align: right;\">\n",
       "      <th></th>\n",
       "      <th>CANCEL_PREV</th>\n",
       "      <th>PESO</th>\n",
       "      <th>USD_SUBTOTAL</th>\n",
       "      <th>DESCUENTOS</th>\n",
       "      <th>CORTESIA</th>\n",
       "      <th>FALTANTES</th>\n",
       "      <th>PQRs</th>\n",
       "      <th>DEMORA</th>\n",
       "      <th>VOLVIO</th>\n",
       "    </tr>\n",
       "  </thead>\n",
       "  <tbody>\n",
       "    <tr>\n",
       "      <th>count</th>\n",
       "      <td>29650.000000</td>\n",
       "      <td>29650.000000</td>\n",
       "      <td>29650.000000</td>\n",
       "      <td>29650.000000</td>\n",
       "      <td>29650.000000</td>\n",
       "      <td>29650.000000</td>\n",
       "      <td>29650.000000</td>\n",
       "      <td>29650.000000</td>\n",
       "      <td>29650.000000</td>\n",
       "    </tr>\n",
       "    <tr>\n",
       "      <th>mean</th>\n",
       "      <td>0.010185</td>\n",
       "      <td>37.194491</td>\n",
       "      <td>36.904473</td>\n",
       "      <td>0.027218</td>\n",
       "      <td>0.118617</td>\n",
       "      <td>0.217740</td>\n",
       "      <td>0.188735</td>\n",
       "      <td>6.819427</td>\n",
       "      <td>0.746442</td>\n",
       "    </tr>\n",
       "    <tr>\n",
       "      <th>std</th>\n",
       "      <td>0.100410</td>\n",
       "      <td>46.034490</td>\n",
       "      <td>63.487202</td>\n",
       "      <td>0.162720</td>\n",
       "      <td>0.323343</td>\n",
       "      <td>0.737225</td>\n",
       "      <td>0.622301</td>\n",
       "      <td>2.382177</td>\n",
       "      <td>0.435055</td>\n",
       "    </tr>\n",
       "    <tr>\n",
       "      <th>min</th>\n",
       "      <td>0.000000</td>\n",
       "      <td>0.500000</td>\n",
       "      <td>0.400000</td>\n",
       "      <td>0.000000</td>\n",
       "      <td>0.000000</td>\n",
       "      <td>0.000000</td>\n",
       "      <td>0.000000</td>\n",
       "      <td>-15.000000</td>\n",
       "      <td>0.000000</td>\n",
       "    </tr>\n",
       "    <tr>\n",
       "      <th>25%</th>\n",
       "      <td>0.000000</td>\n",
       "      <td>12.000000</td>\n",
       "      <td>18.590000</td>\n",
       "      <td>0.000000</td>\n",
       "      <td>0.000000</td>\n",
       "      <td>0.000000</td>\n",
       "      <td>0.000000</td>\n",
       "      <td>5.000000</td>\n",
       "      <td>0.000000</td>\n",
       "    </tr>\n",
       "    <tr>\n",
       "      <th>50%</th>\n",
       "      <td>0.000000</td>\n",
       "      <td>29.500000</td>\n",
       "      <td>27.770000</td>\n",
       "      <td>0.000000</td>\n",
       "      <td>0.000000</td>\n",
       "      <td>0.000000</td>\n",
       "      <td>0.000000</td>\n",
       "      <td>7.000000</td>\n",
       "      <td>1.000000</td>\n",
       "    </tr>\n",
       "    <tr>\n",
       "      <th>75%</th>\n",
       "      <td>0.000000</td>\n",
       "      <td>48.237500</td>\n",
       "      <td>40.860000</td>\n",
       "      <td>0.000000</td>\n",
       "      <td>0.000000</td>\n",
       "      <td>0.000000</td>\n",
       "      <td>0.000000</td>\n",
       "      <td>8.000000</td>\n",
       "      <td>1.000000</td>\n",
       "    </tr>\n",
       "    <tr>\n",
       "      <th>max</th>\n",
       "      <td>1.000000</td>\n",
       "      <td>2700.000000</td>\n",
       "      <td>3933.750000</td>\n",
       "      <td>1.000000</td>\n",
       "      <td>1.000000</td>\n",
       "      <td>24.000000</td>\n",
       "      <td>22.000000</td>\n",
       "      <td>15.000000</td>\n",
       "      <td>1.000000</td>\n",
       "    </tr>\n",
       "  </tbody>\n",
       "</table>\n",
       "</div>"
      ],
      "text/plain": [
       "        CANCEL_PREV          PESO  USD_SUBTOTAL    DESCUENTOS      CORTESIA  \\\n",
       "count  29650.000000  29650.000000  29650.000000  29650.000000  29650.000000   \n",
       "mean       0.010185     37.194491     36.904473      0.027218      0.118617   \n",
       "std        0.100410     46.034490     63.487202      0.162720      0.323343   \n",
       "min        0.000000      0.500000      0.400000      0.000000      0.000000   \n",
       "25%        0.000000     12.000000     18.590000      0.000000      0.000000   \n",
       "50%        0.000000     29.500000     27.770000      0.000000      0.000000   \n",
       "75%        0.000000     48.237500     40.860000      0.000000      0.000000   \n",
       "max        1.000000   2700.000000   3933.750000      1.000000      1.000000   \n",
       "\n",
       "          FALTANTES          PQRs        DEMORA        VOLVIO  \n",
       "count  29650.000000  29650.000000  29650.000000  29650.000000  \n",
       "mean       0.217740      0.188735      6.819427      0.746442  \n",
       "std        0.737225      0.622301      2.382177      0.435055  \n",
       "min        0.000000      0.000000    -15.000000      0.000000  \n",
       "25%        0.000000      0.000000      5.000000      0.000000  \n",
       "50%        0.000000      0.000000      7.000000      1.000000  \n",
       "75%        0.000000      0.000000      8.000000      1.000000  \n",
       "max       24.000000     22.000000     15.000000      1.000000  "
      ]
     },
     "execution_count": 4,
     "metadata": {},
     "output_type": "execute_result"
    }
   ],
   "source": [
    "df = pd.read_csv(\"FrubanaData.csv\")\n",
    "#df['SEGMENTO'] = pd.Categorical(df['SEGMENTO'])\n",
    "#df['CIUDAD'] = pd.Categorical(df['CIUDAD'])\n",
    "#df['CANCEL_PREV'] = pd.Categorical(df['CANCEL_PREV'])\n",
    "#df['DESCUENTOS'] = pd.Categorical(df['DESCUENTOS'])\n",
    "#df['CORTESIA'] = pd.Categorical(df['CORTESIA'])\n",
    "#df['VOLVIO'] = pd.Categorical(df['VOLVIO'])\n",
    "print(\"\")\n",
    "print(df.dtypes)\n",
    "print(\"\")\n",
    "df.describe()"
   ]
  },
  {
   "cell_type": "code",
   "execution_count": 5,
   "metadata": {
    "tags": []
   },
   "outputs": [
    {
     "name": "stdout",
     "output_type": "stream",
     "text": [
      "{'SEGMENTO': {'Comercio': 1, 'Hogar': 2, 'Institución': 3, 'Líderes de Comunidad': 4, 'Restaurante': 5}} \n",
      "{'CIUDAD': {'BAQ': 1, 'BOG': 2, 'CMX': 3}} \n"
     ]
    },
    {
     "data": {
      "text/html": [
       "<div>\n",
       "<style scoped>\n",
       "    .dataframe tbody tr th:only-of-type {\n",
       "        vertical-align: middle;\n",
       "    }\n",
       "\n",
       "    .dataframe tbody tr th {\n",
       "        vertical-align: top;\n",
       "    }\n",
       "\n",
       "    .dataframe thead th {\n",
       "        text-align: right;\n",
       "    }\n",
       "</style>\n",
       "<table border=\"1\" class=\"dataframe\">\n",
       "  <thead>\n",
       "    <tr style=\"text-align: right;\">\n",
       "      <th></th>\n",
       "      <th>SEGMENTO</th>\n",
       "      <th>CIUDAD</th>\n",
       "      <th>UID</th>\n",
       "      <th>CANCEL_PREV</th>\n",
       "      <th>PESO</th>\n",
       "      <th>USD_SUBTOTAL</th>\n",
       "      <th>DESCUENTOS</th>\n",
       "      <th>CORTESIA</th>\n",
       "      <th>FALTANTES</th>\n",
       "      <th>PQRs</th>\n",
       "      <th>DEMORA</th>\n",
       "      <th>VOLVIO</th>\n",
       "    </tr>\n",
       "  </thead>\n",
       "  <tbody>\n",
       "    <tr>\n",
       "      <th>0</th>\n",
       "      <td>5</td>\n",
       "      <td>2</td>\n",
       "      <td>001A3beZXUbwRsjHvrdJUPqHRmX2</td>\n",
       "      <td>0</td>\n",
       "      <td>82.40</td>\n",
       "      <td>56.15</td>\n",
       "      <td>0</td>\n",
       "      <td>1</td>\n",
       "      <td>0</td>\n",
       "      <td>0</td>\n",
       "      <td>5</td>\n",
       "      <td>1</td>\n",
       "    </tr>\n",
       "    <tr>\n",
       "      <th>1</th>\n",
       "      <td>5</td>\n",
       "      <td>2</td>\n",
       "      <td>001rRSk6sob6iN4mQHdRczU0Ynp2</td>\n",
       "      <td>0</td>\n",
       "      <td>5.00</td>\n",
       "      <td>15.15</td>\n",
       "      <td>0</td>\n",
       "      <td>0</td>\n",
       "      <td>0</td>\n",
       "      <td>0</td>\n",
       "      <td>6</td>\n",
       "      <td>1</td>\n",
       "    </tr>\n",
       "    <tr>\n",
       "      <th>2</th>\n",
       "      <td>2</td>\n",
       "      <td>2</td>\n",
       "      <td>009RfUy5UIVAdvnvWeR01sAyCLk2</td>\n",
       "      <td>0</td>\n",
       "      <td>79.40</td>\n",
       "      <td>80.60</td>\n",
       "      <td>0</td>\n",
       "      <td>0</td>\n",
       "      <td>0</td>\n",
       "      <td>0</td>\n",
       "      <td>7</td>\n",
       "      <td>0</td>\n",
       "    </tr>\n",
       "    <tr>\n",
       "      <th>3</th>\n",
       "      <td>5</td>\n",
       "      <td>3</td>\n",
       "      <td>00GrI29h5KcLlDVKIlfFfDPQAqd2</td>\n",
       "      <td>0</td>\n",
       "      <td>4.25</td>\n",
       "      <td>3.68</td>\n",
       "      <td>0</td>\n",
       "      <td>1</td>\n",
       "      <td>0</td>\n",
       "      <td>0</td>\n",
       "      <td>5</td>\n",
       "      <td>0</td>\n",
       "    </tr>\n",
       "    <tr>\n",
       "      <th>4</th>\n",
       "      <td>5</td>\n",
       "      <td>3</td>\n",
       "      <td>00KvH6PXE1couCpEEhu4ufHgWzj2</td>\n",
       "      <td>0</td>\n",
       "      <td>79.75</td>\n",
       "      <td>27.20</td>\n",
       "      <td>0</td>\n",
       "      <td>1</td>\n",
       "      <td>0</td>\n",
       "      <td>0</td>\n",
       "      <td>6</td>\n",
       "      <td>1</td>\n",
       "    </tr>\n",
       "  </tbody>\n",
       "</table>\n",
       "</div>"
      ],
      "text/plain": [
       "   SEGMENTO  CIUDAD                           UID  CANCEL_PREV   PESO  \\\n",
       "0         5       2  001A3beZXUbwRsjHvrdJUPqHRmX2            0  82.40   \n",
       "1         5       2  001rRSk6sob6iN4mQHdRczU0Ynp2            0   5.00   \n",
       "2         2       2  009RfUy5UIVAdvnvWeR01sAyCLk2            0  79.40   \n",
       "3         5       3  00GrI29h5KcLlDVKIlfFfDPQAqd2            0   4.25   \n",
       "4         5       3  00KvH6PXE1couCpEEhu4ufHgWzj2            0  79.75   \n",
       "\n",
       "   USD_SUBTOTAL  DESCUENTOS  CORTESIA  FALTANTES  PQRs  DEMORA  VOLVIO  \n",
       "0         56.15           0         1          0     0       5       1  \n",
       "1         15.15           0         0          0     0       6       1  \n",
       "2         80.60           0         0          0     0       7       0  \n",
       "3          3.68           0         1          0     0       5       0  \n",
       "4         27.20           0         1          0     0       6       1  "
      ]
     },
     "execution_count": 5,
     "metadata": {},
     "output_type": "execute_result"
    }
   ],
   "source": [
    "labels = df['SEGMENTO'].astype('category').cat.categories.tolist()\n",
    "new_seg = {'SEGMENTO' : {k: v for k,v in zip(labels,list(range(1,len(labels)+1)))}}\n",
    "print(new_seg, \"\")\n",
    "df.replace(new_seg, inplace=True)\n",
    "\n",
    "labels = df['CIUDAD'].astype('category').cat.categories.tolist()\n",
    "new_city = {'CIUDAD' : {k: v for k,v in zip(labels,list(range(1,len(labels)+1)))}}\n",
    "print(new_city, \"\")\n",
    "df.replace(new_city, inplace=True)\n",
    "\n",
    "df.head()"
   ]
  },
  {
   "cell_type": "markdown",
   "metadata": {},
   "source": [
    "# Validación de la Muestra\n",
    "\n",
    "### ¿Los Datos están balanceados?\n",
    "\n",
    "Es importante validar si los datos están balanceados, es decir, que si dentro de nuestra muestra, tenemos la misma cantidad de registros para los casos en que el cliente realizó una segunda orden y los casos en que el cliente dejó de pedir en Frubana. Al garantizar una muestra balanceada se optimizan los resultados del modelo al reducir <b> bias and variance [Sesgo y Varianza]</b> de los datos lo cual añade, además, que el modelo resulte eficiente frente a problemas de <b>overfitting [sobre-estimación]</b>."
   ]
  },
  {
   "cell_type": "code",
   "execution_count": 6,
   "metadata": {},
   "outputs": [
    {
     "data": {
      "image/png": "[encoded data removed]",
      "text/plain": [
       "<Figure size 432x504 with 1 Axes>"
      ]
     },
     "metadata": {
      "needs_background": "light"
     },
     "output_type": "display_data"
    }
   ],
   "source": [
    "plt.figure(figsize=(6, 7))\n",
    "splot = sns.countplot('VOLVIO', data=df)\n",
    "for p in splot.patches:\n",
    "    splot.annotate(format(p.get_height(), '.0f'),\n",
    "               (p.get_x() + p.get_width() / 2.,p.get_height()), ha = 'center', va = 'center', xytext = (0, 10),\n",
    "               textcoords = 'offset points')"
   ]
  },
  {
   "cell_type": "markdown",
   "metadata": {},
   "source": [
    "La muestra no está balanceada. De los 29659 usuarios, 22134 volvieron a pedir después de su primera orden y 7527 no volvieron a realizar un pedido. A pesar de que es una relación positiva para la empresa se observa que aún hay un gran porcentaje de usuarios <b> 25.4% </b> que dejan de usar la aplicación tras su primera compra. Para detectar qué puede estar sucediendo e intentar actuar sobre la solución se utilizará un método estadístico para balancear la muestra conocido como <b> Balanceo con muestra sintentica </b>, esta técnica se basa en técnicas de clasificación al modo de vecinos más cercanos."
   ]
  },
  {
   "cell_type": "code",
   "execution_count": 7,
   "metadata": {},
   "outputs": [
    {
     "data": {
      "text/plain": [
       "array([[    0, 17764],\n",
       "       [    1, 17764]], dtype=int64)"
      ]
     },
     "execution_count": 7,
     "metadata": {},
     "output_type": "execute_result"
    }
   ],
   "source": [
    "y = df.VOLVIO\n",
    "X = df.drop(['VOLVIO','UID'], axis=1)\n",
    "X_train, X_test, y_train, y_test = train_test_split(X, y, test_size=0.20, random_state=27)\n",
    "sm = SMOTE(random_state=27, sampling_strategy=1)\n",
    "X_train, y_train = sm.fit_sample(X_train, y_train)\n",
    "np.array(np.unique(y_train, return_counts=True)).T"
   ]
  },
  {
   "cell_type": "code",
   "execution_count": 8,
   "metadata": {},
   "outputs": [
    {
     "data": {
      "image/png": "[encoded data removed]",
      "text/plain": [
       "<Figure size 432x504 with 1 Axes>"
      ]
     },
     "metadata": {
      "needs_background": "light"
     },
     "output_type": "display_data"
    }
   ],
   "source": [
    "plt.figure(figsize=(6, 7))\n",
    "splot = sns.countplot(y_train)\n",
    "for p in splot.patches:\n",
    "    splot.annotate(format(p.get_height(), '.0f'),\n",
    "               (p.get_x() + p.get_width() / 2.,p.get_height()), ha = 'center', va = 'center', xytext = (0, 10),\n",
    "               textcoords = 'offset points')"
   ]
  },
  {
   "cell_type": "markdown",
   "metadata": {},
   "source": [
    "# Creación de los modelos\n",
    "\n",
    "Para que la creación de los modelos pudiera realizarse, unas líneas arriba se realizó la transformación de las categorías que estaban tipo texto (Ciudad y Segmento) ya que los siguientes modelos no reciben categorías o factores bajo tipologías de texto sino solamente numéricas.\n",
    "\n",
    "### <center> Regresión Logística </center>"
   ]
  },
  {
   "cell_type": "code",
   "execution_count": 9,
   "metadata": {},
   "outputs": [
    {
     "name": "stderr",
     "output_type": "stream",
     "text": [
      "C:\\Users\\NECSOFT\\anaconda3\\lib\\site-packages\\sklearn\\linear_model\\_logistic.py:764: ConvergenceWarning: lbfgs failed to converge (status=1):\n",
      "STOP: TOTAL NO. of ITERATIONS REACHED LIMIT.\n",
      "\n",
      "Increase the number of iterations (max_iter) or scale the data as shown in:\n",
      "    https://scikit-learn.org/stable/modules/preprocessing.html\n",
      "Please also refer to the documentation for alternative solver options:\n",
      "    https://scikit-learn.org/stable/modules/linear_model.html#logistic-regression\n",
      "  extra_warning_msg=_LOGISTIC_SOLVER_CONVERGENCE_MSG)\n"
     ]
    }
   ],
   "source": [
    "logit = LogisticRegression(solver='lbfgs')\n",
    "logit_model = logit.fit(X_train,y_train)\n",
    "logit_pred = logit_model.predict_log_proba(X_test)\n",
    "logit_roc_auc = roc_auc_score(y_test, logit_pred[:,1])"
   ]
  },
  {
   "cell_type": "markdown",
   "metadata": {},
   "source": [
    "### <center> Ingenuo de Bayes [Naive Bayes] </center>"
   ]
  },
  {
   "cell_type": "code",
   "execution_count": 10,
   "metadata": {},
   "outputs": [
    {
     "name": "stdout",
     "output_type": "stream",
     "text": [
      "100%|█████████████████████████████████████████████| 100/100 [00:13<00:00,  7.47trial/s, best loss: -0.6389906815720844]\n",
      "best:\n",
      "{'alpha': 1.8669006929140965}\n"
     ]
    }
   ],
   "source": [
    "def hyperopt_train_test(params):\n",
    "    clf = BernoulliNB(**params)\n",
    "    return cross_val_score(clf, X_train, y_train).mean()\n",
    "space4knn = {\n",
    "    'alpha': hp.uniform('alpha', 0.0, 2.0)\n",
    "}\n",
    "\n",
    "def f(params):\n",
    "    acc = hyperopt_train_test(params)\n",
    "    return {'loss': -acc, 'status': STATUS_OK}\n",
    "trials = Trials()\n",
    "best = fmin(f, space4knn, algo=tpe.suggest, max_evals=100, trials=trials)\n",
    "print('best:')\n",
    "print(best)"
   ]
  },
  {
   "cell_type": "code",
   "execution_count": 11,
   "metadata": {},
   "outputs": [],
   "source": [
    "NaiveBayes = BernoulliNB(alpha = best.get('alpha'))\n",
    "NB_model = NaiveBayes.fit(X_train,y_train)\n",
    "NB_pred = NB_model.predict_proba(X_test)\n",
    "NB_roc_auc = roc_auc_score(y_test, NB_pred[:,1])"
   ]
  },
  {
   "cell_type": "markdown",
   "metadata": {},
   "source": [
    "### <center> Árbol de Decisión [Decision Tree (DT)] </center>"
   ]
  },
  {
   "cell_type": "code",
   "execution_count": 12,
   "metadata": {},
   "outputs": [
    {
     "name": "stdout",
     "output_type": "stream",
     "text": [
      "100%|█████████████████████████████████████████████| 100/100 [00:24<00:00,  4.12trial/s, best loss: -0.7074428425057533]\n",
      "best:\n",
      "{'criterion': 0, 'max_depth': 18, 'max_features': 3}\n"
     ]
    }
   ],
   "source": [
    "def hyperopt_train_test(params):\n",
    "    clf = DecisionTreeClassifier(**params)\n",
    "    return cross_val_score(clf, X_train, y_train).mean()\n",
    "space4dt = {\n",
    "    'max_depth': hp.choice('max_depth', range(1,20)),\n",
    "    'max_features': hp.choice('max_features', range(1,5)),\n",
    "    'criterion': hp.choice('criterion', [\"gini\", \"entropy\"])\n",
    "}\n",
    "def f(params):\n",
    "    acc = hyperopt_train_test(params)\n",
    "    return {'loss': -acc, 'status': STATUS_OK}\n",
    "\n",
    "trials = Trials()\n",
    "best = fmin(f, space4dt, algo=tpe.suggest, max_evals=100, trials=trials)\n",
    "print('best:')\n",
    "print(best)"
   ]
  },
  {
   "cell_type": "code",
   "execution_count": 13,
   "metadata": {},
   "outputs": [],
   "source": [
    "DT = DecisionTreeClassifier(criterion = 'gini' if best.get('criterion') == 0 else 'entropy', max_depth = best.get('max_depth'), max_features = best.get('max_features'))\n",
    "DT.fit(X_train,y_train)\n",
    "DT_pred = DT.predict_proba(X_test)\n",
    "DT_roc_auc = roc_auc_score(y_test, DT_pred[:,1])"
   ]
  },
  {
   "cell_type": "markdown",
   "metadata": {},
   "source": [
    "### <center> Bosque Aleatorio [Random Forest (RF)] </center>"
   ]
  },
  {
   "cell_type": "code",
   "execution_count": 14,
   "metadata": {},
   "outputs": [
    {
     "name": "stdout",
     "output_type": "stream",
     "text": [
      "100%|██████████████████████████████████████████████| 100/100 [02:32<00:00,  1.52s/trial, best loss: -0.740347123175289]\n",
      "best:\n",
      "{'criterion': 0, 'max_depth': 18, 'max_features': 3, 'n_estimators': 15}\n"
     ]
    }
   ],
   "source": [
    "def hyperopt_train_test(params):\n",
    "    clf = RandomForestClassifier(**params)\n",
    "    return cross_val_score(clf, X_train, y_train).mean()\n",
    "space4rf = {\n",
    "    'max_depth': hp.choice('max_depth', range(1,20)),\n",
    "    'max_features': hp.choice('max_features', range(1,5)),\n",
    "    'n_estimators': hp.choice('n_estimators', range(1,20)),\n",
    "    'criterion': hp.choice('criterion', [\"gini\", \"entropy\"])\n",
    "}\n",
    "best = 0\n",
    "def f(params):\n",
    "    acc = hyperopt_train_test(params)\n",
    "    return {'loss': -acc, 'status': STATUS_OK}\n",
    "trials = Trials()\n",
    "best = fmin(f, space4rf, algo=tpe.suggest, max_evals=100, trials=trials)\n",
    "print('best:')\n",
    "print(best)"
   ]
  },
  {
   "cell_type": "code",
   "execution_count": 15,
   "metadata": {},
   "outputs": [],
   "source": [
    "RF = RandomForestClassifier(criterion = 'gini' if best.get('criterion') == 0 else 'entropy', max_depth = best.get('max_depth'), max_features = best.get('max_features'), n_estimators = best.get('n_estimators'))\n",
    "RF.fit(X_train,y_train)\n",
    "RF_pred = RF.predict_proba(X_test)\n",
    "RF_roc_auc = roc_auc_score(y_test, RF_pred[:,1])"
   ]
  },
  {
   "cell_type": "markdown",
   "metadata": {},
   "source": [
    "### <center> Aumento del Gradiente [Gradient Boosting (GB)] </center>"
   ]
  },
  {
   "cell_type": "code",
   "execution_count": 16,
   "metadata": {},
   "outputs": [
    {
     "name": "stdout",
     "output_type": "stream",
     "text": [
      "100%|█████████████████████████████████████████████| 100/100 [16:21<00:00,  9.82s/trial, best loss: -0.7603879050382732]\n",
      "best:\n",
      "{'learning_rate': 0.6891098054534388, 'max_depth': 18, 'max_features': 2, 'n_estimators': 16}\n"
     ]
    }
   ],
   "source": [
    "def hyperopt_train_test(params):\n",
    "    clf = GradientBoostingClassifier(**params)\n",
    "    return cross_val_score(clf, X_train, y_train).mean()\n",
    "space4rf = {\n",
    "    'max_depth': hp.choice('max_depth', range(1,20)),\n",
    "    'max_features': hp.choice('max_features', range(1,5)),\n",
    "    'n_estimators': hp.choice('n_estimators', range(1,20)),\n",
    "    'learning_rate': hp.loguniform('learning_rate', np.log(0.01), np.log(1))}\n",
    "best = 0\n",
    "def f(params):\n",
    "    acc = hyperopt_train_test(params)\n",
    "    return {'loss': -acc, 'status': STATUS_OK}\n",
    "trials = Trials()\n",
    "best = fmin(f, space4rf, algo=tpe.suggest, max_evals=100, trials=trials)\n",
    "print('best:')\n",
    "print(best)"
   ]
  },
  {
   "cell_type": "code",
   "execution_count": 17,
   "metadata": {},
   "outputs": [],
   "source": [
    "GB = GradientBoostingClassifier(learning_rate = best.get('learning_rate'), max_depth = best.get('max_depth'), max_features = best.get('max_features'), n_estimators = best.get('n_estimators'))\n",
    "GB.fit(X_train, y_train)\n",
    "GB_pred = GB.predict_proba(X_test)\n",
    "GB_roc_auc = roc_auc_score(y_test, GB_pred[:,1])"
   ]
  },
  {
   "cell_type": "markdown",
   "metadata": {},
   "source": [
    "### <center> XgBoost </center>"
   ]
  },
  {
   "cell_type": "code",
   "execution_count": 18,
   "metadata": {},
   "outputs": [
    {
     "name": "stdout",
     "output_type": "stream",
     "text": [
      "100%|█████████████████████████████████████████████| 100/100 [03:22<00:00,  2.02s/trial, best loss: -0.7513809523149304]\n",
      "best:\n",
      "{'learning_rate': 0.8807360564951826, 'max_depth': 15, 'n_estimators': 15}\n"
     ]
    }
   ],
   "source": [
    "def hyperopt_train_test(params):\n",
    "    clf = XGBClassifier(**params)\n",
    "    return cross_val_score(clf, X_train, y_train).mean()\n",
    "space4rf = {\n",
    "    'max_depth': hp.choice('max_depth', range(1,20)),\n",
    "    'n_estimators': hp.choice('n_estimators', range(1,20)),\n",
    "    'learning_rate': hp.loguniform('learning_rate', np.log(0.01), np.log(1))\n",
    "}\n",
    "best = 0\n",
    "def f(params):\n",
    "    acc = hyperopt_train_test(params)\n",
    "    return {'loss': -acc, 'status': STATUS_OK}\n",
    "trials = Trials()\n",
    "best = fmin(f, space4rf, algo=tpe.suggest, max_evals=100, trials=trials)\n",
    "print('best:')\n",
    "print(best)"
   ]
  },
  {
   "cell_type": "code",
   "execution_count": 19,
   "metadata": {},
   "outputs": [],
   "source": [
    "XGB=xgb.XGBClassifier(learning_rate = best.get('learning_rate'), max_depth = best.get('max_depth'), n_estimators = best.get('n_estimators'))\n",
    "XGB.fit(X_train,y_train)\n",
    "XGB_pred=XGB.predict_proba(X_test)\n",
    "XGB_roc_auc=roc_auc_score(y_test,XGB_pred[:,1])"
   ]
  },
  {
   "cell_type": "markdown",
   "metadata": {},
   "source": [
    "# Comparación de los modelos\n",
    "\n",
    "Para que la creación de los modelos pudiera realizarse, unas líneas arriba se realizó la transformación de las categorías que estaban tipo texto (Ciudad y Segmento) ya que los siguientes modelos no reciben categorías o factores bajo tipologías de texto sino solamente numéricas.\n",
    "\n",
    "<h3><b> AUC </b></h3>\n",
    "\n",
    "Ahora bien, para realizar la comparación de los modelos se revisará el rendimiento de cada modelo bajo el cálculo de la <b> Curva de de Característica Operativa del Recepto (ROC curve)</b> de manera que el modelo que alcance el mayor valor respecto a la <b>Tasa de Verdaderos Positivos (TPR)</b> frente a la <b>Tasa de Falsos Positivos(FPR)</b> en la curva de decisión será tomado como el modelo que mejor pronostica la variable de respuesta binaria en nuestro caso.\n",
    "\n",
    "No obstante, revisar cada asignación de decisión posible en el <b>trade-off</b> entre la <b>TPR</b> y la <b>(FPR)</b> sería ineficiente. Por ello se procede a añadir el <b>Área Bajo la curva ROC (Under ROC curve Area - AUC)</b> mediante la cual se puede medir toda el área bidimensional por debajo de la curva ROC. El valor resultante para el <b>AUC</b> será interpretado como la probabilidad de que cada modelo clasifique un ejemplo positivo aleatorio más alto que un ejemplo negativo aleatorio. Es decir, un modelo cuyas predicciones siempre resultan incorrectas tiene un <b>AUC</b> de 0, mientras que otro modelo cuyas predicciones siempre resultan correctas tiene un <b>AUC</b> de 1."
   ]
  },
  {
   "cell_type": "code",
   "execution_count": 20,
   "metadata": {
    "scrolled": true
   },
   "outputs": [
    {
     "name": "stdout",
     "output_type": "stream",
     "text": [
      "     Modelo           AUC Value\n",
      "Regresión Logit  :  0.6571559309235365\n",
      "Naïve Bayes      :  0.5921626055869014\n",
      "Árbol de decisión:  0.661394796518036\n",
      "Random Forest    :  0.7161322392396337\n",
      "Gradient Boosting:  0.6865387400158527\n",
      "Xg Boost:           0.6988678868080277\n"
     ]
    }
   ],
   "source": [
    "def MeanSquareError(y_obs, y_pred):\n",
    "    ''' This function calculates efficiency of any model \n",
    "    y_pred: estimate value\n",
    "    y_obs: real value \n",
    "    # '''\n",
    "    mse = pow(y_obs - y_pred, 2).sum() / y_obs.shape[1]\n",
    "    return mse\n",
    "\n",
    "print('     Modelo        ', '  AUC Value')\n",
    "print('Regresión Logit  : ',logit_roc_auc)\n",
    "print('Naïve Bayes      : ',NB_roc_auc   )\n",
    "print('Árbol de decisión: ',DT_roc_auc   )\n",
    "print('Random Forest    : ',RF_roc_auc   )\n",
    "print('Gradient Boosting: ',GB_roc_auc   )\n",
    "print('Xg Boost:          ',XGB_roc_auc  )"
   ]
  },
  {
   "cell_type": "code",
   "execution_count": 21,
   "metadata": {},
   "outputs": [
    {
     "data": {
      "text/plain": [
       "<matplotlib.legend.Legend at 0x14b8a47b9c8>"
      ]
     },
     "execution_count": 21,
     "metadata": {},
     "output_type": "execute_result"
    },
    {
     "data": {
      "image/png": "[encoded data removed]",
      "text/plain": [
       "<Figure size 1440x720 with 1 Axes>"
      ]
     },
     "metadata": {
      "needs_background": "light"
     },
     "output_type": "display_data"
    }
   ],
   "source": [
    "logit_fpr, logit_tpr, thresholds = roc_curve(y_test, logit_pred[:,1])\n",
    "NB_fpr, NB_tpr, thresholds       = roc_curve(y_test, NB_pred[:,1])\n",
    "DT_fpr, DT_tpr, thresholds       = roc_curve(y_test, DT_pred[:,1])\n",
    "RF_fpr, RF_tpr, thresholds       = roc_curve(y_test, RF_pred[:,1])\n",
    "GB_fpr, GB_tpr, thresholds       = roc_curve(y_test, GB_pred[:,1])\n",
    "XGB_fpr, XGB_tpr, thresholds     = roc_curve(y_test, XGB_pred[:,1])\n",
    "\n",
    "plt.figure(figsize=(20,10))\n",
    "plt.plot(logit_fpr, logit_tpr, label='Regresión Logística')\n",
    "plt.plot(NB_fpr, NB_tpr, label='NB')\n",
    "plt.plot(DT_fpr, DT_tpr, label='DT')\n",
    "plt.plot(RF_fpr, RF_tpr, label='RF')\n",
    "plt.plot(GB_fpr, GB_tpr, label='GB')\n",
    "plt.plot(XGB_fpr, XGB_tpr, label='XGB')\n",
    "plt.plot([0, 1], [0, 1],'r--')\n",
    "plt.xlabel('Tasa de Falsos Positivos')\n",
    "plt.ylabel('Tasa de Verdaderos Positivos')\n",
    "plt.title('Característica de funcionamiento del receptor (Curva ROC)')\n",
    "plt.legend(loc=\"lower right\")"
   ]
  },
  {
   "cell_type": "markdown",
   "metadata": {},
   "source": [
    "# Interpretación de resultados\n",
    "\n",
    "Tras modelar y comparar los resultados se observa que el segundo modelo con mayor rendimiento fue GradientBoosting el cual tiene como base un solo árbol de decisión pequeño/corto (pocas ramificaciones/nodos = alto sesgo, baja varianza). Este se basa en un método iterativo que aprovecha la lectura del error del árbol pequeño con el que se trabaja inicialmente para, en cada iteración, aprender secuencialmente del error anterior. Con base en esto, el modelo se concentra en minimizar el sesgo. \n",
    "\n",
    "Sin embargo, el modelo ganador fue XGBoost el cual es una variante semejante a GradientBoosting. De hecho, GradientBoosting es la base teórica de XGBoost; la diferencia radica en que el modelo XGBoost se especializa en trabajar con datos con valores atípicos (con alta varianza) mientras que trabaja en minimizar el sesgo. El modelo GradientBoosting es débil frente a los valores atípicos, por lo cual la relevancia de las variables se iba a ver sesgadas seleccionando GradientBoosting dada su falibilidad frente a este tipo de valores. \n",
    "\n",
    "### Importancia de las variables en los 2 mejores modelos\n",
    "\n",
    "Continuando con lo que se mencionaba sobre la diferencia de ambos modelos se puede observar además dicha diferencia al revisar la relevancia relativa de cada variable dentro del modelo. "
   ]
  },
  {
   "cell_type": "code",
   "execution_count": 22,
   "metadata": {},
   "outputs": [
    {
     "data": {
      "text/plain": [
       "Text(0.5, 1.0, 'Importancia de las Variables en el Modelo (GB)')"
      ]
     },
     "execution_count": 22,
     "metadata": {},
     "output_type": "execute_result"
    },
    {
     "data": {
      "image/png": "[encoded data removed]",
      "text/plain": [
       "<Figure size 864x432 with 1 Axes>"
      ]
     },
     "metadata": {
      "needs_background": "light"
     },
     "output_type": "display_data"
    }
   ],
   "source": [
    "feature_importance = XGB.feature_importances_\n",
    "sorted_idx = np.argsort(feature_importance)\n",
    "pos = np.arange(sorted_idx.shape[0]) + .5\n",
    "fig = plt.figure(figsize=(12, 6))\n",
    "plt.barh(pos, feature_importance[sorted_idx], align='center')\n",
    "plt.yticks(pos, np.array(X.columns)[sorted_idx])\n",
    "plt.title('Importancia de las Variables en el Modelo (GB)')"
   ]
  },
  {
   "cell_type": "code",
   "execution_count": 23,
   "metadata": {},
   "outputs": [
    {
     "data": {
      "text/plain": [
       "<matplotlib.axes._subplots.AxesSubplot at 0x14b8a464d88>"
      ]
     },
     "execution_count": 23,
     "metadata": {},
     "output_type": "execute_result"
    },
    {
     "data": {
      "image/png": "[encoded data removed]",
      "text/plain": [
       "<Figure size 432x288 with 1 Axes>"
      ]
     },
     "metadata": {
      "needs_background": "light"
     },
     "output_type": "display_data"
    }
   ],
   "source": [
    "plot_importance(XGB)"
   ]
  },
  {
   "cell_type": "markdown",
   "metadata": {},
   "source": [
    "Como es visible en las anteriores dos gráficas, el modelo GradientBoosting (GB) la relevancia de las variables es muy distinta a la del modelo XGBoost (XGB), se observa que en el primero la cantidad de productos según su peso (PESO) y el costo en dólares comprado (USD_SUBTOTAL) son casi irrelevantes para el modelo. Mientras que esto se vuelve sumamente relevante para el modelo XGB lo cual se puede entender por lo mencionado anteriormente sobre que este último modelo es robusto frente a datos atípicos y alta varianza, lo cual está presente con claridad en aquellas dos variables que además de presentar esta particularidad son sumamente importantes para determinar si un usuario volverá a realizar un pedido o no.\n",
    "\n",
    "Finalmente la siguiente celda crea el árbol de decisión resultante del mejor modelo XGB donde se puede validar las condiciones segun las cuales el modelo indica la probabilidad de que un cliente deje de realizar compras tras su primera orden o se mantenga comprando en Frubana."
   ]
  },
  {
   "cell_type": "code",
   "execution_count": 24,
   "metadata": {},
   "outputs": [],
   "source": [
    "def plot_tree(xgb_model, filename, rankdir='UT'):\n",
    "    \"\"\"\n",
    "    Plot the tree in high resolution\n",
    "    :param xgb_model: xgboost trained model\n",
    "    :param filename: the pdf file where this is saved\n",
    "    :param rankdir: direction of the tree: default Top-Down (UT), accepts:'LR' for left-to-right tree\n",
    "    :return:\n",
    "    \"\"\"\n",
    "    import os\n",
    "    gvz = xgb.to_graphviz(xgb_model, num_trees=0, rankdir=rankdir)\n",
    "    _, file_extension = os.path.splitext(filename)\n",
    "    format = file_extension.strip('.').lower()\n",
    "    data = gvz.pipe(format=format)\n",
    "    full_filename = filename\n",
    "    with open(full_filename, 'wb') as f:\n",
    "        f.write(data)\n",
    "        \n",
    "plot_tree(XGB, 'ARBOL.pdf')"
   ]
  }
 ],
 "metadata": {
  "kernelspec": {
   "display_name": "Python 3",
   "language": "python",
   "name": "python3"
  },
  "language_info": {
   "codemirror_mode": {
    "name": "ipython",
    "version": 3
   },
   "file_extension": ".py",
   "mimetype": "text/x-python",
   "name": "python",
   "nbconvert_exporter": "python",
   "pygments_lexer": "ipython3",
   "version": "3.7.6"
  }
 },
 "nbformat": 4,
 "nbformat_minor": 4
}
